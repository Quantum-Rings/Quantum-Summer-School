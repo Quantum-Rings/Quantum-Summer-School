{
 "cells": [
  {
   "cell_type": "markdown",
   "id": "35fd176b-0e0e-457d-9ee0-a012ee7f51eb",
   "metadata": {},
   "source": [
    "<div style=\"background-color:rgba(78, 188, 130, 0.05); text-align:center; vertical-align: middle; padding:20px 0;border:3px; border-style:solid; padding: 0.5em; border-color: rgba(78, 188, 130, 1.0); color: #000000;\">\n",
    "\n",
    "<img src=\"figs/qr_logo.png\" width=\"700\"/>\n",
    "\n",
    "<h1><strong>Quantum Summer School</strong></h1>\n",
    "\n",
    "<h2><strong>Episode 14</strong></h2>\n",
    "\n",
    "<h3><strong>Capstone: 100-Qubit QAOA & Road Ahead</strong></h3>\n",
    "\n",
    "</div>"
   ]
  },
  {
   "cell_type": "markdown",
   "id": "76c674cc-8145-453d-b710-4b49cc0d11f4",
   "metadata": {},
   "source": [
    "*In this session, we will wrap up the series by solving a max-cut problem with the QAOA algorithm with 100 qubits!*\n",
    "\n",
    "**Note:** This tutorial draws from both Qiskit and Quantum Ring's QAOA Max-Cut tutorials."
   ]
  },
  {
   "cell_type": "markdown",
   "id": "a1daae80-9866-44f6-85ed-e345ce2a4638",
   "metadata": {},
   "source": [
    "<div style=\"background-color:rgba(255, 248, 240, 1.0); text-align:left; vertical-align: middle; padding:20px 0;border:3px; border-style:solid; padding: 0.5em; border-color: rgba(255, 142, 0, 1.0); color: #000000;\">\n",
    "\n",
    "## Objectives\n",
    "1. Recap QAOA and complete a small example\n",
    "2. Run QAOA with 100 qubits\n",
    "\n",
    "<div/>"
   ]
  },
  {
   "cell_type": "markdown",
   "id": "56374db4-67d0-4f17-b1ab-da16ee6443cf",
   "metadata": {},
   "source": [
    "## Setup & Imports"
   ]
  },
  {
   "cell_type": "code",
   "execution_count": null,
   "id": "df4fbdc9-5680-4f99-bc88-357473e73249",
   "metadata": {},
   "outputs": [],
   "source": [
    "!pip install -q qiskit_ibm_runtime\n",
    "import rustworkx as rx\n",
    "from rustworkx.visualization import mpl_draw as draw_graph\n",
    "import numpy as np\n",
    "import matplotlib\n",
    "import matplotlib.pyplot as plt\n",
    "import time\n",
    "from datetime import datetime\n",
    "from collections import defaultdict\n",
    "from typing import Sequence\n",
    "from scipy.optimize import minimize\n",
    "from IPython.display import clear_output\n",
    "\n",
    "matplotlib.rcParams.update({\"font.size\": 10})\n",
    "\n",
    "from QuantumRingsLib import QuantumRingsProvider\n",
    "from qiskit.quantum_info import SparsePauliOp\n",
    "from qiskit.visualization import plot_histogram\n",
    "from qiskit import transpile\n",
    "from quantumrings.toolkit.qiskit import QrBackendV2\n",
    "from qiskit.circuit.library import QAOAAnsatz\n",
    "from qiskit_ibm_runtime import Session\n",
    "from quantumrings.toolkit.qiskit import QrEstimatorV2 as Estimator\n",
    "from quantumrings.toolkit.qiskit import QrSamplerV2 as Sampler\n",
    "\n",
    "# Provider & backend (toolkit)\n",
    "provider = QuantumRingsProvider()\n",
    "backend = QrBackendV2(provider, num_qubits=2)"
   ]
  },
  {
   "cell_type": "markdown",
   "id": "7a977bf6-a329-4825-8ef9-36020fb46cde",
   "metadata": {},
   "source": [
    "# Helpers"
   ]
  },
  {
   "cell_type": "markdown",
   "id": "c0c0d3d8-c2d2-48f9-bcde-ccbd4bdaa052",
   "metadata": {},
   "source": [
    "plot_parameter_evolution: helper for plotting the gamma and beta values for each optimizer iteration"
   ]
  },
  {
   "cell_type": "code",
   "execution_count": null,
   "id": "d6a0464e-d362-45f0-af70-a07fdc0a2191",
   "metadata": {},
   "outputs": [],
   "source": [
    "def plot_parameter_evolution():\n",
    "    \"\"\"\n",
    "    Plot the evolution of parameters during optimization.\n",
    "    This function assumes `parameter_history` is a global variable\n",
    "    containing the parameter values for each evaluation.\n",
    "    \"\"\"\n",
    "    global parameter_history\n",
    "\n",
    "    # Ensure there's data to plot\n",
    "    if not parameter_history:\n",
    "        return\n",
    "\n",
    "    clear_output(wait=True)\n",
    "\n",
    "    plt.figure(figsize=(10, 6))\n",
    "    num_params = len(parameter_history[0])\n",
    "    for i in range(num_params):\n",
    "        param_values = [params[i] for params in parameter_history]\n",
    "        plt.plot(param_values, label=f\"Parameter {i + 1}\")\n",
    "\n",
    "    plt.xlabel(\"Evaluation\")\n",
    "    plt.ylabel(\"Parameter Value\")\n",
    "    plt.title(\"Parameter Evolution During Optimization\")\n",
    "    plt.legend()\n",
    "    plt.grid(True)\n",
    "    plt.show()"
   ]
  },
  {
   "cell_type": "markdown",
   "id": "f6aada0a-c872-41bd-ba77-62c5b1614725",
   "metadata": {},
   "source": [
    "to_bitstring: convert integers to binary strings"
   ]
  },
  {
   "cell_type": "code",
   "execution_count": null,
   "id": "d18e9360-97f0-4e09-ac4c-ae93cc21f1de",
   "metadata": {},
   "outputs": [],
   "source": [
    "# auxiliary functions to sample most likely bitstring\n",
    "def to_bitstring(integer, num_bits):\n",
    "    result = np.binary_repr(integer, width=num_bits)\n",
    "    return [int(digit) for digit in result]"
   ]
  },
  {
   "cell_type": "markdown",
   "id": "2b815bda-097f-4b61-aebe-1c3934b563b2",
   "metadata": {},
   "source": [
    "plot_result: plot the best result partition from the QAOA circuit on the graph"
   ]
  },
  {
   "cell_type": "code",
   "execution_count": null,
   "id": "f2a0be90-ba77-481d-b80f-5fc069842ae7",
   "metadata": {},
   "outputs": [],
   "source": [
    "# auxiliary function to plot graphs\n",
    "def plot_result(G, x):\n",
    "    colors = [\"tab:grey\" if i == 0 else \"tab:purple\" for i in x]\n",
    "    pos, default_axes = rx.spring_layout(G, seed=1), plt.axes(frameon=True)\n",
    "    rx.visualization.mpl_draw(G, node_color=colors, node_size=100, alpha=0.8, pos=pos)"
   ]
  },
  {
   "cell_type": "code",
   "execution_count": null,
   "id": "e1cef790-6658-49c5-8bcc-f3b94f803a09",
   "metadata": {},
   "outputs": [],
   "source": [
    "# we will construct this in Section 1, but define here in case you want to skip to Section 2\n",
    "def evaluate_sample(x: Sequence[int], graph: rx.PyGraph) -> float:\n",
    "    assert len(x) == len(list(graph.nodes())), \"The length of x must coincide with the number of nodes in the graph.\"\n",
    "    return sum(x[u] * (1 - x[v]) + x[v] * (1 - x[u]) for u, v in list(graph.edge_list()))"
   ]
  },
  {
   "cell_type": "code",
   "execution_count": null,
   "id": "dbb42c8b-abe4-4de9-807e-fbfcc9558336",
   "metadata": {},
   "outputs": [],
   "source": [
    "# we will construct this in Section 1, but define here in case you want to skip to Section 2\n",
    "def build_max_cut_paulis(graph: rx.PyGraph) -> list[tuple[str, float]]:\n",
    "    \"\"\"Convert the graph to Pauli list.\n",
    "    \"\"\"\n",
    "    pauli_list = []\n",
    "    for edge in list(graph.edge_list()):\n",
    "        paulis = [\"I\"] * len(graph)\n",
    "        paulis[edge[0]], paulis[edge[1]] = \"Z\", \"Z\"\n",
    "\n",
    "        weight = graph.get_edge_data(edge[0], edge[1])\n",
    "\n",
    "        pauli_list.append((\"\".join(paulis)[::-1], weight))\n",
    "\n",
    "    return pauli_list"
   ]
  },
  {
   "cell_type": "markdown",
   "id": "68fd0b4f-baa4-45dc-9f4c-d9cdff01a651",
   "metadata": {
    "id": "68fd0b4f-baa4-45dc-9f4c-d9cdff01a651"
   },
   "source": [
    "# 1. Small-scale QAOA"
   ]
  },
  {
   "cell_type": "markdown",
   "id": "41ab748d-1cc2-400d-9830-0ad2019d6e3c",
   "metadata": {},
   "source": [
    "<div style=\"background-color:rgba(247, 255, 245, 1.0); text-align:left; vertical-align: middle; padding:20px 0;border:3px; border-style:solid; padding: 0.5em; border-color: rgba(0, 153, 51, 1.0); color: #000000;\">\n",
    "\n",
    "In Episode 12, we learned how QAOA works and used it to solve two simple graph problems: max-cut and minimum vertex cover. If you want to review the details of QAOA, you can find it there. In a nutshell, QAOA is a special case of a VQE. We are just trying to minimize the expectation value of a Hamiltonian, but the type of Hamiltonian is very specific. VQE generally speaking lends itself well to problems in like finding the ground state energy of a molecule, whereas QAOA specifically is intended for solving combinatorial problems.\n",
    "\n",
    "Suppose we are given a connected graph $G$ with vertices $V$ and edges $E$. We want to partition $G$ into two sets, which we can also think of as selecting some subset of vertices and leaving the rest not selected. We can label selected with a \"1\" and not selected with a \"0\" (notice how well this maps to qubits). We then \"cut\" every edge which connects two vertices in different sets. The max-cut problem asks: what is the partition of $G$ which maximizes the number of cut edges?\n",
    "\n",
    "Classically, we can formulate the max-cut problem as an optimization problem. Let $x_i\\in \\{0,1\\}$ be the state of vertex $i$ (0 is not selected and 1 is selected). Consider the function:\n",
    "$$\n",
    "f(i,j) = 2 x_i x_j - x_i - x_j ,\n",
    "$$\n",
    "If $x_i=x_j=0$ or $x_i=x_j=1$, then $f(i,j) = 0$. If $x_i\\neq x_j$, then $f(i,j) = -1$. Minimizing this function will give us our max-cut, because we are rewarded for cutting edges between vertices $i$ and $j$ if $x_i\\neq x_j$. So:\n",
    "$$\n",
    "\\text{max. number of cuts} = \\min_{x\\in \\{0, 1\\}^n} \\sum_{(i,j)\\in E}  2 x_i x_j - x_i - x_j.\n",
    "$$\n",
    "\n",
    "Now we need to translate this to something our quantum computer understands! Consider the following Hamiltonian: $H=\\sigma^z_1 \\sigma^z_{2}$. There are four possibilities for the energy:\n",
    "\n",
    "| Qubit $1$ state     | Qubit $2$ state     | Energy ($\\langle H \\rangle$)    |\n",
    "|--------------|--------------|--------------|\n",
    "| 0 | 0 | 1 |\n",
    "| 0 | 1 | -1 |\n",
    "| 1 | 0 | -1 |\n",
    "| 1 | 1 | 1 |\n",
    "\n",
    "We can see that when the two qubits are in the same state, the energy is 1, and when the two qubits are in different states, the energy is -1. This exactly matches our classical function. So our cost Hamiltonian for the whole graph should be:\n",
    "$$ H_C = \\sum_{\\langle i,j \\rangle\\in E(G)} \\sigma^z_i \\sigma^z_{j} $$\n",
    "\n",
    "QAOA works by applying $p$ layers of a cost unitary and mixing unitary. We pick vectors $\\vec{\\gamma}, \\vec{\\beta}$ of length $p$. For the $k$th layer, the cost unitary is:\n",
    "\n",
    "$$U_C(\\gamma_k) = e^{-i \\gamma_k H_C} = \\prod_{\\langle i,j \\rangle\\in E(G)} e^{-i \\gamma_k \\sigma^z_i \\sigma^z_{j}}$$\n",
    "\n",
    "and the mixing unitary is:\n",
    "\n",
    "$$ U_B(\\beta_k) = \\prod_{i\\in V} e^{-i \\beta_k \\sigma^x_i}$$\n",
    "\n",
    "We will use qiskit's QAOAAnsatz to prepare this parameterized layered circuit, then use a classical optimizer to minimize the expectation value of our cost Hamiltonian. Let's do it with 5 qubits, then we will do it with 100 qubits.\n",
    "\n",
    "</div>"
   ]
  },
  {
   "cell_type": "markdown",
   "id": "0cbca6cb",
   "metadata": {
    "id": "0cbca6cb"
   },
   "source": [
    "Initialize your problem by creating a graph with $n=5$ nodes.\n"
   ]
  },
  {
   "cell_type": "code",
   "execution_count": null,
   "id": "6ced6bea",
   "metadata": {
    "colab": {
     "base_uri": "https://localhost:8080/",
     "height": 516
    },
    "id": "6ced6bea",
    "outputId": "ae63fe04-7b20-4c1d-e6ab-21bbdbe15539"
   },
   "outputs": [],
   "source": [
    "n = 5\n",
    "\n",
    "graph = rx.PyGraph()\n",
    "graph.add_nodes_from(np.arange(0, n, 1))\n",
    "edge_list = [(0, 1, 1.0), (0, 2, 1.0), (0, 4, 1.0), (1, 2, 1.0), (2, 3, 1.0), (3, 4, 1.0)]\n",
    "graph.add_edges_from(edge_list)\n",
    "draw_graph(graph, node_size=600, with_labels=True)"
   ]
  },
  {
   "cell_type": "code",
   "execution_count": null,
   "id": "52d1ba92",
   "metadata": {
    "colab": {
     "base_uri": "https://localhost:8080/"
    },
    "id": "52d1ba92",
    "outputId": "b559fafe-7ac2-4f80-86a8-89ca5420dac4"
   },
   "outputs": [],
   "source": [
    "def build_max_cut_paulis(graph: rx.PyGraph) -> list[tuple[str, float]]:\n",
    "    \"\"\"Convert the graph to Pauli list.\n",
    "    \"\"\"\n",
    "    pauli_list = []\n",
    "    for edge in list(graph.edge_list()):\n",
    "        paulis = [\"I\"] * len(graph)\n",
    "        paulis[edge[0]], paulis[edge[1]] = \"Z\", \"Z\"\n",
    "\n",
    "        weight = graph.get_edge_data(edge[0], edge[1])\n",
    "\n",
    "        pauli_list.append((\"\".join(paulis)[::-1], weight))\n",
    "\n",
    "    return pauli_list\n",
    "\n",
    "max_cut_paulis = build_max_cut_paulis(graph)\n",
    "\n",
    "cost_hamiltonian = SparsePauliOp.from_list(max_cut_paulis)\n",
    "print(\"Cost Function Hamiltonian:\", cost_hamiltonian)"
   ]
  },
  {
   "cell_type": "code",
   "execution_count": null,
   "id": "7bd8c6d4-f40f-4a11-a440-0b26d9021b53",
   "metadata": {
    "colab": {
     "base_uri": "https://localhost:8080/",
     "height": 449
    },
    "id": "7bd8c6d4-f40f-4a11-a440-0b26d9021b53",
    "outputId": "6c8ae8ff-8530-4f62-f7d8-22acc427d6f7"
   },
   "outputs": [],
   "source": [
    "circuit = QAOAAnsatz(cost_operator=cost_hamiltonian, reps=2, name='QSS14.1_5_qubit')\n",
    "circuit.measure_all()\n",
    "\n",
    "circuit.draw()"
   ]
  },
  {
   "cell_type": "code",
   "execution_count": null,
   "id": "315c495a",
   "metadata": {
    "colab": {
     "base_uri": "https://localhost:8080/"
    },
    "id": "315c495a",
    "outputId": "7b512319-b357-4b14-a868-d20d6ae2d94b"
   },
   "outputs": [],
   "source": [
    "circuit.parameters"
   ]
  },
  {
   "cell_type": "markdown",
   "id": "82f70daa-ff68-447a-8064-8b7df7a646cf",
   "metadata": {
    "id": "82f70daa-ff68-447a-8064-8b7df7a646cf"
   },
   "source": [
    "### Optimize circuits for quantum hardware execution\n"
   ]
  },
  {
   "cell_type": "code",
   "execution_count": null,
   "id": "bd999f10-1696-4f50-b771-b905c159b53a",
   "metadata": {
    "colab": {
     "base_uri": "https://localhost:8080/",
     "height": 173
    },
    "id": "bd999f10-1696-4f50-b771-b905c159b53a",
    "outputId": "ff7028f6-3ad2-40bc-f5bf-c56e02a766c9"
   },
   "outputs": [],
   "source": [
    "# Create the backend, transpile the circuit, and define the number of qubits\n",
    "backend = QrBackendV2(provider=provider, num_qubits = circuit.num_qubits)\n",
    "qc_transpiled = transpile(circuit, backend)\n",
    "qc_transpiled.draw(fold=False, idle_wires=False)"
   ]
  },
  {
   "cell_type": "markdown",
   "id": "4e75cad7-f599-4937-b5fe-f4d01f53423c",
   "metadata": {
    "id": "4e75cad7-f599-4937-b5fe-f4d01f53423c"
   },
   "source": [
    "### Execute using Qiskit primitives\n",
    "\n",
    "There are two choices for primitives for the backend: the Sampler and the Estimator. The choice of primitive depends on what type of measurement you want to run on the quantum computer. For the minimization of $H_c$, use the Estimator since the measurement of the cost function is simply the expectation value of $\\langle H_c \\rangle$."
   ]
  },
  {
   "cell_type": "markdown",
   "id": "00b2b0f1-9bad-4ad3-b93e-5cbf40395dbf",
   "metadata": {
    "id": "00b2b0f1-9bad-4ad3-b93e-5cbf40395dbf"
   },
   "source": [
    "Define the circuit with initial parameters."
   ]
  },
  {
   "cell_type": "code",
   "execution_count": null,
   "id": "afa5747f-44dc-4e41-a875-7b6f896f13e2",
   "metadata": {
    "id": "afa5747f-44dc-4e41-a875-7b6f896f13e2"
   },
   "outputs": [],
   "source": [
    "initial_gamma = np.pi\n",
    "initial_beta = np.pi/2\n",
    "init_params = [initial_gamma, initial_beta, initial_gamma, initial_beta]"
   ]
  },
  {
   "cell_type": "code",
   "execution_count": null,
   "id": "uP-0Rm-bPtGs",
   "metadata": {
    "id": "uP-0Rm-bPtGs"
   },
   "outputs": [],
   "source": [
    "evaluation_count = 0\n",
    "start_time = None\n",
    "parameter_history = []\n",
    "objective_func_vals = []"
   ]
  },
  {
   "cell_type": "code",
   "execution_count": null,
   "id": "3e64a862",
   "metadata": {
    "id": "3e64a862"
   },
   "outputs": [],
   "source": [
    "def cost_func_estimator(params, ansatz, hamiltonian, estimator):\n",
    "    global evaluation_count, start_time, parameter_history, objective_func_vals\n",
    "\n",
    "    if evaluation_count == 0:\n",
    "        start_time = time.time()\n",
    "\n",
    "    evaluation_count += 1\n",
    "\n",
    "    # Transform observable and run job\n",
    "    isa_hamiltonian = hamiltonian.apply_layout(ansatz.layout)\n",
    "    pub = (ansatz, isa_hamiltonian, params)\n",
    "    job = estimator.run([pub])\n",
    "\n",
    "    results = job.result()[0]\n",
    "    cost = results.data.evs\n",
    "\n",
    "    parameter_history.append(params)\n",
    "    objective_func_vals.append(cost)\n",
    "\n",
    "    elapsed_time = time.time() - start_time\n",
    "\n",
    "    # Print progress\n",
    "    clear_output(wait=True)\n",
    "    print(f\"Evaluation #{evaluation_count}\")\n",
    "    print(f\"Current Parameters: {params}\")\n",
    "    print(f\"Current Cost: {cost}\")\n",
    "    print(f\"Elapsed Time: {elapsed_time:.2f} seconds\")\n",
    "\n",
    "    # Plot parameter evolution\n",
    "    plot_parameter_evolution()\n",
    "\n",
    "    return cost"
   ]
  },
  {
   "cell_type": "code",
   "execution_count": null,
   "id": "2df241a9",
   "metadata": {
    "colab": {
     "base_uri": "https://localhost:8080/",
     "height": 692
    },
    "id": "2df241a9",
    "outputId": "db90aa15-10f9-47c6-b51f-e0c6522d8d7e"
   },
   "outputs": [],
   "source": [
    "objective_func_vals = [] # Global variable\n",
    "with Session(backend=backend) as session:\n",
    "    estimator = Estimator(backend=backend)\n",
    "    estimator.options.default_shots = 1000\n",
    "\n",
    "    # Set simple error suppression/mitigation options\n",
    "    estimator.options.dynamical_decoupling.enable = True\n",
    "    estimator.options.dynamical_decoupling.sequence_type = \"XY4\"\n",
    "    estimator.options.twirling.enable_gates = True\n",
    "    estimator.options.twirling.num_randomizations = \"auto\"\n",
    "\n",
    "    result = minimize(\n",
    "        cost_func_estimator,\n",
    "        init_params,\n",
    "        args=(qc_transpiled, cost_hamiltonian, estimator),\n",
    "        method=\"COBYLA\",\n",
    "        tol=1e-2,\n",
    "        options={'maxiter': 100},\n",
    "    )\n",
    "    print(result)"
   ]
  },
  {
   "cell_type": "code",
   "execution_count": null,
   "id": "e14ecc92",
   "metadata": {
    "colab": {
     "base_uri": "https://localhost:8080/",
     "height": 542
    },
    "id": "e14ecc92",
    "outputId": "634c5e04-a1d0-4775-aeeb-d28db8ec91a1"
   },
   "outputs": [],
   "source": [
    "plt.figure(figsize=(12, 6))\n",
    "plt.plot(objective_func_vals)\n",
    "plt.xlabel(\"Iteration\")\n",
    "plt.ylabel(\"Cost\")\n",
    "plt.show()"
   ]
  },
  {
   "cell_type": "markdown",
   "id": "1f9c8a9c",
   "metadata": {
    "id": "1f9c8a9c"
   },
   "source": [
    "Once you have found the optimal parameters for the circuit, we assign these parameters and sample the final distribution obtained with the optimized parameters. Here is where the *Sampler* primitive should be used since it is the probability distribution of bitstring measurements which correspond to the optimal cut of the graph.\n",
    "\n",
    "**Note:** This means preparing a quantum state $\\psi$ in the computer and then measuring it. A measurement will collapse the state into a single computational basis state - for example, `010101110000...` - which corresponds to a candidate solution $x$ to our initial optimization problem."
   ]
  },
  {
   "cell_type": "code",
   "execution_count": null,
   "id": "2989e76e-4296-4dd8-b065-2b8fced064cf",
   "metadata": {
    "colab": {
     "base_uri": "https://localhost:8080/",
     "height": 224
    },
    "id": "2989e76e-4296-4dd8-b065-2b8fced064cf",
    "outputId": "b46dd861-1f40-4609-c9c1-323be099488c"
   },
   "outputs": [],
   "source": [
    "optimized_circuit = qc_transpiled.assign_parameters(result.x)\n",
    "optimized_circuit.draw(fold=False, idle_wires=False)"
   ]
  },
  {
   "cell_type": "code",
   "execution_count": null,
   "id": "d8f0e302",
   "metadata": {
    "colab": {
     "base_uri": "https://localhost:8080/"
    },
    "id": "d8f0e302",
    "outputId": "27ee5e96-91b2-47b2-8c06-77dbc4024bbc"
   },
   "outputs": [],
   "source": [
    "# If using qiskit-ibm-runtime<0.24.0, change `mode=` to `backend=`\n",
    "sampler = Sampler(backend=backend)\n",
    "sampler.options.default_shots = 10000\n",
    "\n",
    "# Set simple error suppression/mitigation options\n",
    "sampler.options.dynamical_decoupling.enable = True\n",
    "sampler.options.dynamical_decoupling.sequence_type = \"XY4\"\n",
    "sampler.options.twirling.enable_gates = True\n",
    "sampler.options.twirling.num_randomizations = \"auto\"\n",
    "\n",
    "pub= (optimized_circuit, )\n",
    "job = sampler.run([pub], shots=int(1e4))\n",
    "counts_int = job.result()[0].data.meas.get_int_counts()\n",
    "counts_bin = job.result()[0].data.meas.get_counts()\n",
    "shots = sum(counts_int.values())\n",
    "final_distribution_int = {key: val/shots for key, val in counts_int.items()}\n",
    "final_distribution_bin = {key: val/shots for key, val in counts_bin.items()}\n",
    "plot_histogram(counts_bin)"
   ]
  },
  {
   "cell_type": "markdown",
   "id": "dace5fed-5555-4f1c-9109-7f5a31832d04",
   "metadata": {
    "id": "dace5fed-5555-4f1c-9109-7f5a31832d04"
   },
   "source": [
    "### Post-process, return result in classical format\n",
    "\n",
    "The post-processing step interprets the sampling output to return a solution for your original problem. In this case, you are interested in the bitstring with the highest probability as this determines the optimal cut. The symmetries in the problem allow for four possible solutions, and the sampling process will return one of them with a slightly higher probability, but you can see in the plotted distribution below that four of the bitstrings are distictively more likely than the rest."
   ]
  },
  {
   "cell_type": "code",
   "execution_count": null,
   "id": "d4f7fc70-883f-4b6b-8e92-2fc4afbbea46",
   "metadata": {
    "colab": {
     "base_uri": "https://localhost:8080/"
    },
    "id": "d4f7fc70-883f-4b6b-8e92-2fc4afbbea46",
    "outputId": "c3f66707-8a58-4d26-bec8-09224abc5881"
   },
   "outputs": [],
   "source": [
    "keys = list(final_distribution_int.keys())\n",
    "values = list(final_distribution_int.values())\n",
    "most_likely = keys[np.argmax(np.abs(values))]\n",
    "most_likely_bitstring = to_bitstring(most_likely, len(graph))\n",
    "most_likely_bitstring.reverse()\n",
    "\n",
    "print(\"Result bitstring:\", most_likely_bitstring)"
   ]
  },
  {
   "cell_type": "code",
   "execution_count": null,
   "id": "650875e9-adbc-43bd-9505-556be2566278",
   "metadata": {
    "colab": {
     "base_uri": "https://localhost:8080/",
     "height": 648
    },
    "id": "650875e9-adbc-43bd-9505-556be2566278",
    "outputId": "213c0d34-37ef-42ac-d65c-f4857f61ab55"
   },
   "outputs": [],
   "source": [
    "final_bits = final_distribution_bin\n",
    "values = np.abs(list(final_bits.values()))\n",
    "top_4_values = sorted(values, reverse=True)[:4]\n",
    "positions = []\n",
    "for value in top_4_values:\n",
    "    idxs = np.where(values == value)[0]\n",
    "    for idx in idxs:\n",
    "        positions.append(idx)\n",
    "\n",
    "fig = plt.figure(figsize=(11, 6))\n",
    "ax = fig.add_subplot(1, 1, 1)\n",
    "plt.xticks(rotation=45)\n",
    "plt.title(\"Result Distribution\")\n",
    "plt.xlabel(\"Bitstrings (reversed)\")\n",
    "plt.ylabel(\"Probability\")\n",
    "ax.bar(list(final_bits.keys()), list(final_bits.values()), color=\"tab:grey\")\n",
    "for p in positions:\n",
    "    ax.get_children()[int(p)].set_color(\"tab:purple\")\n",
    "plt.show()"
   ]
  },
  {
   "cell_type": "markdown",
   "id": "207443f2-34d9-424a-a6d7-44707ef1488b",
   "metadata": {
    "id": "207443f2-34d9-424a-a6d7-44707ef1488b"
   },
   "source": [
    "### Visualize best cut"
   ]
  },
  {
   "cell_type": "code",
   "execution_count": null,
   "id": "33135970-8bc4-4fb2-ab87-08726a432ce4",
   "metadata": {
    "colab": {
     "base_uri": "https://localhost:8080/",
     "height": 406
    },
    "id": "33135970-8bc4-4fb2-ab87-08726a432ce4",
    "outputId": "10cf9df8-48d4-4bfc-b8cd-90d6e5e50c61"
   },
   "outputs": [],
   "source": [
    "plot_result(graph, most_likely_bitstring)"
   ]
  },
  {
   "cell_type": "markdown",
   "id": "2119575f-f3cf-45bc-ae2b-93c046391eb6",
   "metadata": {
    "id": "2119575f-f3cf-45bc-ae2b-93c046391eb6"
   },
   "source": [
    "And calculate the value of the cut\n"
   ]
  },
  {
   "cell_type": "code",
   "execution_count": null,
   "id": "2f6a73c4-f5ae-4647-a0dd-d77a13f66388",
   "metadata": {
    "colab": {
     "base_uri": "https://localhost:8080/"
    },
    "id": "2f6a73c4-f5ae-4647-a0dd-d77a13f66388",
    "outputId": "1368249e-336b-4f6f-b665-a7b7687da3d7"
   },
   "outputs": [],
   "source": [
    "def evaluate_sample(x: Sequence[int], graph: rx.PyGraph) -> float:\n",
    "    assert len(x) == len(list(graph.nodes())), \"The length of x must coincide with the number of nodes in the graph.\"\n",
    "    return sum(x[u] * (1 - x[v]) + x[v] * (1 - x[u]) for u, v in list(graph.edge_list()))\n",
    "\n",
    "cut_value= evaluate_sample(most_likely_bitstring, graph)\n",
    "print('The value of the cut is:', cut_value)"
   ]
  },
  {
   "cell_type": "markdown",
   "id": "2e2a89de-cef3-46ea-b201-cf931b65dfea",
   "metadata": {
    "id": "2e2a89de-cef3-46ea-b201-cf931b65dfea"
   },
   "source": [
    "## 2. QAOA with 100 Qubits\n",
    "\n",
    "Let's do it all again, but now with a \"utility-scale\" problem. With 100 qubits, we can find the max cut for a graph with 100 nodes! We can map real-world combinatorial problems, like vehicle routing or optimizing schedules or portfolio optimization, to a 100 node graph problem, which could then be solved with QAOA."
   ]
  },
  {
   "cell_type": "code",
   "execution_count": null,
   "id": "8f551e4d-ab6c-4984-9062-64837e563a83",
   "metadata": {
    "id": "8f551e4d-ab6c-4984-9062-64837e563a83"
   },
   "outputs": [],
   "source": [
    "edge_list = [\n",
    "(1, 0, 1.0),\n",
    "(4, 3, 1.0),\n",
    "(8, 7, 1.0),\n",
    "(11, 10, 1.0),\n",
    "(17, 12, 1.0),\n",
    "(19, 18, 1.0),\n",
    "(23, 22, 1.0),\n",
    "(25, 24, 1.0),\n",
    "(26, 16, 1.0),\n",
    "(28, 27, 1.0),\n",
    "(30, 29, 1.0),\n",
    "(33, 20, 1.0),\n",
    "(36, 32, 1.0),\n",
    "(38, 37, 1.0),\n",
    "(40, 39, 1.0),\n",
    "(42, 41, 1.0),\n",
    "(43, 34, 1.0),\n",
    "(47, 46, 1.0),\n",
    "(51, 50, 1.0),\n",
    "(54, 45, 1.0),\n",
    "(55, 49, 1.0),\n",
    "(56, 52, 1.0),\n",
    "(59, 58, 1.0),\n",
    "(61, 60, 1.0),\n",
    "(65, 64, 1.0),\n",
    "(69, 68, 1.0),\n",
    "(72, 62, 1.0),\n",
    "(73, 66, 1.0),\n",
    "(90, 75, 1.0),\n",
    "(78, 77, 1.0),\n",
    "(81, 80, 1.0),\n",
    "(83, 82, 1.0),\n",
    "(86, 85, 1.0),\n",
    "(93, 87, 1.0),\n",
    "(89, 88, 1.0),\n",
    "(91, 79, 1.0),\n",
    "(96, 95, 1.0),\n",
    "(98, 97, 1.0),\n",
    "(3, 2, 1.0),\n",
    "(15, 4, 1.0),\n",
    "(6, 5, 1.0),\n",
    "(10, 9, 1.0),\n",
    "(12, 11, 1.0),\n",
    "(18, 14, 1.0),\n",
    "(16, 8, 1.0),\n",
    "(20, 19, 1.0),\n",
    "(22, 21, 1.0),\n",
    "(27, 26, 1.0),\n",
    "(29, 28, 1.0),\n",
    "(31, 30, 1.0),\n",
    "(34, 24, 1.0),\n",
    "(47, 35, 1.0),\n",
    "(39, 38, 1.0),\n",
    "(41, 40, 1.0),\n",
    "(43, 42, 1.0),\n",
    "(45, 44, 1.0),\n",
    "(49, 48, 1.0),\n",
    "(60, 53, 1.0),\n",
    "(64, 54, 1.0),\n",
    "(58, 57, 1.0),\n",
    "(63, 62, 1.0),\n",
    "(66, 65, 1.0),\n",
    "(68, 67, 1.0),\n",
    "(70, 69, 1.0),\n",
    "(76, 75, 1.0),\n",
    "(77, 71, 1.0),\n",
    "(80, 79, 1.0),\n",
    "(82, 81, 1.0),\n",
    "(85, 84, 1.0),\n",
    "(88, 87, 1.0),\n",
    "(89, 74, 1.0),\n",
    "(98, 91, 1.0),\n",
    "(92, 83, 1.0),\n",
    "(94, 90, 1.0),\n",
    "(14, 0, 1.0),\n",
    "(2, 1, 1.0),\n",
    "(5, 4, 1.0),\n",
    "(7, 6, 1.0),\n",
    "(9, 8, 1.0),\n",
    "(13, 12, 1.0),\n",
    "(30, 17, 1.0),\n",
    "(21, 20, 1.0),\n",
    "(22, 15, 1.0),\n",
    "(24, 23, 1.0),\n",
    "(26, 25, 1.0),\n",
    "(32, 31, 1.0),\n",
    "(39, 33, 1.0),\n",
    "(35, 28, 1.0),\n",
    "(51, 36, 1.0),\n",
    "(52, 37, 1.0),\n",
    "(44, 43, 1.0),\n",
    "(46, 45, 1.0),\n",
    "(48, 47, 1.0),\n",
    "(50, 49, 1.0),\n",
    "(53, 41, 1.0),\n",
    "(57, 56, 1.0),\n",
    "(71, 58, 1.0),\n",
    "(60, 59, 1.0),\n",
    "(62, 61, 1.0),\n",
    "(64, 63, 1.0),\n",
    "(67, 66, 1.0),\n",
    "(68, 55, 1.0),\n",
    "(74, 70, 1.0),\n",
    "(81, 72, 1.0),\n",
    "(85, 73, 1.0),\n",
    "(77, 76, 1.0),\n",
    "(79, 78, 1.0),\n",
    "(84, 83, 1.0),\n",
    "(87, 86, 1.0),\n",
    "(95, 94, 1.0),\n",
    "(97, 96, 1.0),\n",
    "(99, 98, 1.0)\n",
    "]"
   ]
  },
  {
   "cell_type": "code",
   "execution_count": null,
   "id": "590fe2ce",
   "metadata": {
    "colab": {
     "base_uri": "https://localhost:8080/",
     "height": 553
    },
    "id": "590fe2ce",
    "outputId": "01c85caa-6071-43e3-f2da-b51b7200a188"
   },
   "outputs": [],
   "source": [
    "N = max(max(edge) for edge in edge_list) + 1\n",
    "print(\"nodes: \", N)\n",
    "print(\"edges: \",len(edge_list))\n",
    "\n",
    "# Create and draw the subgraph\n",
    "graph = rx.PyGraph()\n",
    "graph.add_nodes_from(range(N))\n",
    "graph.add_edges_from(edge_list)\n",
    "\n",
    "pos = rx.spring_layout(graph, seed=1)\n",
    "draw_graph(graph, pos=pos, node_size=200, with_labels=True, width=1)"
   ]
  },
  {
   "cell_type": "markdown",
   "id": "31bb3bc1-f19e-4553-9e93-a89e92ea5469",
   "metadata": {
    "id": "31bb3bc1-f19e-4553-9e93-a89e92ea5469"
   },
   "source": [
    "### Map classical inputs to a quantum problem\n"
   ]
  },
  {
   "cell_type": "markdown",
   "id": "3dacef1f",
   "metadata": {
    "id": "3dacef1f"
   },
   "source": [
    "#### Graph → Hamiltonian\n",
    "\n",
    "First, convert the graph you want to solve directly into a Hamiltonian that is suited for QAOA.\n"
   ]
  },
  {
   "cell_type": "code",
   "execution_count": null,
   "id": "a6bdceed",
   "metadata": {
    "colab": {
     "base_uri": "https://localhost:8080/"
    },
    "id": "a6bdceed",
    "outputId": "0d1860d2-fc74-41ab-e67d-7f6da4b0084b",
    "scrolled": true
   },
   "outputs": [],
   "source": [
    "max_cut_paulis = build_max_cut_paulis(graph)\n",
    "\n",
    "cost_hamiltonian = SparsePauliOp.from_list(max_cut_paulis)\n",
    "print(\"Cost Function Hamiltonian:\", cost_hamiltonian)"
   ]
  },
  {
   "cell_type": "markdown",
   "id": "ba1796e6",
   "metadata": {
    "id": "ba1796e6"
   },
   "source": [
    "#### Hamiltonian → quantum circuit\n"
   ]
  },
  {
   "cell_type": "code",
   "execution_count": null,
   "id": "8mS8T8dMkGtX",
   "metadata": {
    "id": "8mS8T8dMkGtX"
   },
   "outputs": [],
   "source": [
    "# Experiment Parameters\n",
    "p = 1  # Number of QAOA layers\n",
    "\n",
    "initial_beta = np.pi / 2\n",
    "initial_gamma = np.pi\n",
    "\n",
    "# For p layers, we need 2 * p parameters: gamma_1, beta_1, gamma_2, beta_2, ...\n",
    "init_params = [initial_gamma if i % 2 == 0 else initial_beta for i in range(2 * p)]\n",
    "\n",
    "maxiter = 100  # Maximum iterations for the optimizer"
   ]
  },
  {
   "cell_type": "code",
   "execution_count": null,
   "id": "9693adfc",
   "metadata": {
    "colab": {
     "base_uri": "https://localhost:8080/"
    },
    "id": "9693adfc",
    "outputId": "c66ef25b-8f6e-46b8-d2d9-0bc328fdd01c"
   },
   "outputs": [],
   "source": [
    "circuit = QAOAAnsatz(\n",
    "    cost_operator=cost_hamiltonian,\n",
    "    reps=p,\n",
    "    name='QSS14.2_100_qubit'\n",
    ")\n",
    "\n",
    "circuit.measure_all()"
   ]
  },
  {
   "cell_type": "code",
   "execution_count": null,
   "id": "1b5a12c7-5a21-46d5-abe3-3feeabdcfe39",
   "metadata": {
    "id": "1b5a12c7-5a21-46d5-abe3-3feeabdcfe39"
   },
   "outputs": [],
   "source": [
    "# Create the backend, transpile the circuit, and define the number of qubits\n",
    "\n",
    "backend = QrBackendV2(provider=provider, num_qubits = circuit.num_qubits)\n",
    "qc_transpiled = transpile(circuit, backend)"
   ]
  },
  {
   "cell_type": "markdown",
   "id": "8a8e65f0-9089-4237-b833-6f99da859ce2",
   "metadata": {
    "id": "8a8e65f0-9089-4237-b833-6f99da859ce2"
   },
   "source": [
    "### Run QAOA\n",
    "\n",
    "To run QAOA, you must know the optimal parameters $\\gamma_k$ and $\\beta_k$ to put in the variational circuit. Optimize these parameters by running an optimization loop on the device. The cell submits jobs until the cost function value has converged and the optimal parameters for $\\gamma_k$ and $\\beta_k$ are determined.\n"
   ]
  },
  {
   "cell_type": "code",
   "execution_count": null,
   "id": "1fc92b94-af0d-4920-a9b3-2e13108fb2b6",
   "metadata": {},
   "outputs": [],
   "source": [
    "objective_func_vals = []\n",
    "parameter_history = []\n",
    "evaluation_times = []\n",
    "evaluation_count = 0\n",
    "start_time = time.time()"
   ]
  },
  {
   "cell_type": "code",
   "execution_count": null,
   "id": "7j2GVeXulSWe",
   "metadata": {
    "id": "7j2GVeXulSWe"
   },
   "outputs": [],
   "source": [
    "def cost_func_estimator(params, ansatz, hamiltonian, estimator):\n",
    "    global evaluation_count, parameter_history, objective_func_vals\n",
    "    evaluation_count += 1\n",
    "    parameter_history.append(params)\n",
    "\n",
    "    # Build the ISA hamiltonian if needed\n",
    "    isa_hamiltonian = hamiltonian.apply_layout(ansatz.layout)\n",
    "    pub = (ansatz, isa_hamiltonian, params)\n",
    "    job = estimator.run([pub])\n",
    "    results = job.result()[0]\n",
    "    cost = results.data.evs  # Check what this returns. If it's a list like [0.1234], then cost[0] is needed.\n",
    "    objective_func_vals.append(cost)\n",
    "\n",
    "    elapsed = time.time() - start_time\n",
    "    evaluation_times.append(elapsed)  # Store the elapsed time for this evaluation\n",
    "\n",
    "    # Format params with 4 decimal places\n",
    "    formatted_params = [f\"{p:.4f}\" for p in params]\n",
    "\n",
    "    # If cost is a single-value list, use cost[0]\n",
    "    formatted_cost = f\"{cost[0]:.4f}\"\n",
    "\n",
    "    if evaluation_count % 1 == 0:\n",
    "        elapsed = time.time() - start_time\n",
    "        current_time = datetime.now().strftime(\"%Y-%m-%d %H:%M:%S\")\n",
    "        print(f\"{current_time} - Evaluation #{evaluation_count}, \"\n",
    "              f\"Params={formatted_params}, Cost={formatted_cost}, Elapsed={elapsed:.2f}s\")\n",
    "\n",
    "    return cost\n"
   ]
  },
  {
   "cell_type": "markdown",
   "id": "5e11ce39-a046-4f65-a8e6-bc9ca123eb9a",
   "metadata": {
    "id": "5e11ce39-a046-4f65-a8e6-bc9ca123eb9a"
   },
   "source": [
    "#### Find candidate solution for $\\vec{\\gamma}$ and $\\vec{\\beta}$."
   ]
  },
  {
   "cell_type": "code",
   "execution_count": null,
   "id": "9521a963",
   "metadata": {
    "colab": {
     "base_uri": "https://localhost:8080/"
    },
    "id": "9521a963",
    "outputId": "916897e7-6d7f-47ad-bb9f-79ba6e75d4b1"
   },
   "outputs": [],
   "source": [
    "start_time = time.time()\n",
    "sampler = Sampler(backend=backend)\n",
    "\n",
    "objective_func_vals = [] # Global variable\n",
    "with Session(backend=backend) as session:\n",
    "    estimator = Estimator(backend=backend)\n",
    "\n",
    "    estimator.options.default_shots = 1\n",
    "\n",
    "    # Set simple error suppression/mitigation options\n",
    "    sampler.options.dynamical_decoupling.enable = False\n",
    "    sampler.options.twirling.enable_gates = False\n",
    "\n",
    "    result = minimize(\n",
    "        cost_func_estimator,\n",
    "        init_params,\n",
    "        args=(qc_transpiled, cost_hamiltonian, estimator),\n",
    "        method=\"COBYLA\",\n",
    "        options={'maxiter': maxiter },\n",
    "    )\n",
    "    print(result)"
   ]
  },
  {
   "cell_type": "markdown",
   "id": "1ec8bdc0-48ed-42e2-a8f2-55d41432b383",
   "metadata": {
    "id": "1ec8bdc0-48ed-42e2-a8f2-55d41432b383"
   },
   "source": [
    "Once the optimal parameters from running QAOA on the device have been found, assign the parameters to the circuit\n"
   ]
  },
  {
   "cell_type": "code",
   "execution_count": null,
   "id": "1c432c2e",
   "metadata": {
    "id": "1c432c2e",
    "scrolled": true
   },
   "outputs": [],
   "source": [
    "optimized_circuit = qc_transpiled.assign_parameters(result.x)"
   ]
  },
  {
   "cell_type": "markdown",
   "id": "f3a9a3be-60db-41f0-9058-451c1f41a8a7",
   "metadata": {
    "id": "f3a9a3be-60db-41f0-9058-451c1f41a8a7"
   },
   "source": [
    "Finally, execute the circuit with the optimal parameters to sample from the corresponding distribution.\n"
   ]
  },
  {
   "cell_type": "code",
   "execution_count": null,
   "id": "a5cc531b",
   "metadata": {
    "id": "a5cc531b",
    "scrolled": true
   },
   "outputs": [],
   "source": [
    "sampler = Sampler(backend=backend)\n",
    "sampler.options.default_shots = 10000\n",
    "\n",
    "# Set simple error suppression/mitigation options\n",
    "sampler.options.dynamical_decoupling.enable = False\n",
    "sampler.options.twirling.enable_gates = False\n",
    "\n",
    "\n",
    "pub= (optimized_circuit, )\n",
    "job = sampler.run([pub], shots=sampler.options.default_shots)\n",
    "\n",
    "counts_int = job.result()[0].data.meas.get_int_counts()\n",
    "counts_bin = job.result()[0].data.meas.get_counts()\n",
    "shots = sum(counts_int.values())\n",
    "final_distribution_int = {key: val/shots for key, val in counts_int.items()}"
   ]
  },
  {
   "cell_type": "markdown",
   "id": "50ad3918-5cc4-488a-b323-6743ebfc7400",
   "metadata": {
    "id": "50ad3918-5cc4-488a-b323-6743ebfc7400"
   },
   "source": [
    "### Post-process, return result in classical format\n"
   ]
  },
  {
   "cell_type": "markdown",
   "id": "7a8f4463",
   "metadata": {
    "id": "7a8f4463"
   },
   "source": [
    "Check that the cost minimized in the optimization loop has converged to a certain value. The code below uses the parameters corresponding to the minimum value of the cost."
   ]
  },
  {
   "cell_type": "code",
   "execution_count": null,
   "id": "0fda3611",
   "metadata": {
    "id": "0fda3611"
   },
   "outputs": [],
   "source": [
    "plt.figure(figsize=(12, 6))\n",
    "plt.plot(objective_func_vals)\n",
    "plt.xlabel(\"Iteration\")\n",
    "plt.ylabel(\"Cost\")\n",
    "plt.show()"
   ]
  },
  {
   "cell_type": "code",
   "execution_count": null,
   "id": "g2gr3eV8uSbs",
   "metadata": {
    "id": "g2gr3eV8uSbs"
   },
   "outputs": [],
   "source": [
    "# Assume parameter_history is a list of lists, each inner list having length = number of parameters\n",
    "num_params = len(parameter_history[0])  # number of parameters\n",
    "plt.figure(figsize=(8, 6))\n",
    "for i in range(num_params):\n",
    "    # Extract the i-th parameter from each evaluation\n",
    "    param_values = [params[i] for params in parameter_history]\n",
    "    plt.plot(param_values, label=f\"Parameter {i+1}\")\n",
    "\n",
    "plt.xlabel(\"Evaluation\")\n",
    "plt.ylabel(\"Parameter Value\")\n",
    "plt.title(\"Parameter Evolution During Optimization\")\n",
    "plt.legend()\n",
    "plt.grid(True)\n",
    "plt.show()"
   ]
  },
  {
   "cell_type": "markdown",
   "id": "da37beca",
   "metadata": {
    "id": "da37beca"
   },
   "source": [
    "Given that the likelihood of each solution is low, extract the solution that corresponds to the lowest cost.\n"
   ]
  },
  {
   "cell_type": "code",
   "execution_count": null,
   "id": "OkhmNLKsxBfO",
   "metadata": {
    "id": "OkhmNLKsxBfO"
   },
   "outputs": [],
   "source": [
    "# Plot cumulative elapsed times\n",
    "plt.figure(figsize=(8, 6))\n",
    "plt.plot(np.array(evaluation_times)/60, marker='o')\n",
    "plt.xlabel(\"Evaluation\")\n",
    "plt.ylabel(\"Cumulative Elapsed Time (min)\")\n",
    "plt.title(\"Cumulative Elapsed Time vs Evaluation\")\n",
    "plt.grid(True)\n",
    "plt.show()"
   ]
  },
  {
   "cell_type": "code",
   "execution_count": null,
   "id": "tTDAPZEexXiv",
   "metadata": {
    "id": "tTDAPZEexXiv"
   },
   "outputs": [],
   "source": [
    "# Compute per-evaluation times from cumulative times if needed\n",
    "time_per_evaluation = [\n",
    "    evaluation_times[i] - evaluation_times[i - 1]\n",
    "    for i in range(1, len(evaluation_times))\n",
    "]\n",
    "\n",
    "# Calculate the average time\n",
    "average_time = np.mean(time_per_evaluation)\n",
    "\n",
    "# Print the average time\n",
    "print(f\"Average time per evaluation: {average_time:.2f} seconds\")\n",
    "\n",
    "# Plot per-evaluation times\n",
    "plt.figure(figsize=(10, 6))\n",
    "plt.plot(range(1, len(evaluation_times)), time_per_evaluation, marker='o', label=\"Time per Evaluation\")\n",
    "plt.axhline(y=average_time, color='r', linestyle='--', label=f\"Average Time ({average_time:.2f}s)\")\n",
    "plt.xlabel(\"Evaluation\")\n",
    "plt.ylabel(\"Time per Evaluation (s)\")\n",
    "plt.title(\"Time per Evaluation with Average\")\n",
    "plt.legend()\n",
    "plt.grid(True)\n",
    "plt.show()"
   ]
  },
  {
   "cell_type": "code",
   "execution_count": null,
   "id": "080e93a9",
   "metadata": {
    "id": "080e93a9"
   },
   "outputs": [],
   "source": [
    "_PARITY = np.array([-1 if bin(i).count(\"1\") % 2 else 1 for i in range(256)], dtype=np.complex128)\n",
    "\n",
    "\n",
    "def evaluate_sparse_pauli(state: int, observable: SparsePauliOp) -> complex:\n",
    "    \"\"\"Utility for the evaluation of the expectation value of a measured state.\"\"\"\n",
    "    packed_uint8 = np.packbits(observable.paulis.z, axis=1, bitorder=\"little\")\n",
    "    state_bytes = np.frombuffer(state.to_bytes(packed_uint8.shape[1], \"little\"), dtype=np.uint8)\n",
    "    reduced = np.bitwise_xor.reduce(packed_uint8 & state_bytes, axis=1)\n",
    "    return np.sum(observable.coeffs * _PARITY[reduced])\n",
    "\n",
    "def best_solution(samples, hamiltonian):\n",
    "    \"\"\"Find solution with lowest cost\"\"\"\n",
    "    min_cost = 1000\n",
    "    min_sol = None\n",
    "    for bit_str in samples.keys():\n",
    "        # Qiskit use little endian hence the [::-1]\n",
    "        candidate_sol = int(bit_str)\n",
    "        # fval = qp.objective.evaluate(candidate_sol)\n",
    "        fval = evaluate_sparse_pauli(candidate_sol, hamiltonian).real\n",
    "        if fval <= min_cost:\n",
    "            min_sol = candidate_sol\n",
    "            min_cost = fval\n",
    "\n",
    "    return min_sol\n",
    "\n",
    "best_sol = best_solution(final_distribution_int, cost_hamiltonian)\n",
    "best_sol_bitstring = to_bitstring(int(best_sol), len(graph))\n",
    "best_sol_bitstring.reverse()\n",
    "\n",
    "print(\"Result bitstring:\", best_sol_bitstring)"
   ]
  },
  {
   "cell_type": "markdown",
   "id": "7d0cac91",
   "metadata": {
    "id": "7d0cac91"
   },
   "source": [
    "Next, visualize the cut. Nodes of the same color belong to the same group.\n"
   ]
  },
  {
   "cell_type": "code",
   "execution_count": null,
   "id": "b4a25e28",
   "metadata": {
    "id": "b4a25e28"
   },
   "outputs": [],
   "source": [
    "plot_result(graph, best_sol_bitstring)"
   ]
  },
  {
   "cell_type": "markdown",
   "id": "95507cce-16ec-433c-956b-c77f70d7a3ab",
   "metadata": {
    "id": "95507cce-16ec-433c-956b-c77f70d7a3ab"
   },
   "source": [
    "And calculate the the value of the cut\n"
   ]
  },
  {
   "cell_type": "code",
   "execution_count": null,
   "id": "dd015e77-c1b9-4d06-9163-3ef56cc810f7",
   "metadata": {
    "id": "dd015e77-c1b9-4d06-9163-3ef56cc810f7"
   },
   "outputs": [],
   "source": [
    "cut_value= evaluate_sample(best_sol_bitstring, graph)\n",
    "print('The value of the cut is:', cut_value)"
   ]
  },
  {
   "cell_type": "code",
   "execution_count": null,
   "id": "FJm2VKwjE7rf",
   "metadata": {
    "id": "FJm2VKwjE7rf"
   },
   "outputs": [],
   "source": [
    "# Extract final parameter values\n",
    "final_params = result.x\n",
    "print(\"Final Parameters:\", final_params)"
   ]
  },
  {
   "cell_type": "markdown",
   "id": "be09c8ea",
   "metadata": {
    "id": "be09c8ea"
   },
   "source": [
    "Now you need to compute the objective value of each sample that you measured on the quantum computer. The sample with the lowest objective value is the solution returned by the quantum computer.\n"
   ]
  },
  {
   "cell_type": "code",
   "execution_count": null,
   "id": "27db70eb",
   "metadata": {
    "id": "27db70eb"
   },
   "outputs": [],
   "source": [
    "# auxiliary function to help plot cumulative distribution functions\n",
    "def _plot_cdf(objective_values: dict, ax, color):\n",
    "    x_vals = sorted(objective_values.keys(), reverse=True)\n",
    "    y_vals = np.cumsum([objective_values[x] for x in x_vals])\n",
    "    ax.plot(x_vals, y_vals, color=color)\n",
    "\n",
    "\n",
    "def plot_cdf(dist, ax, title):\n",
    "    _plot_cdf(dist, ax, \"C1\",)\n",
    "    ax.vlines(min(list(dist.keys())), 0, 1, \"C1\", linestyle=\"--\")\n",
    "\n",
    "    ax.set_title(title)\n",
    "    ax.set_xlabel(\"Objective function value\")\n",
    "    ax.set_ylabel(\"Cumulative distribution function\")\n",
    "    ax.grid(alpha=0.3)\n",
    "\n",
    "# auxiliary function to convert bit-strings to objective values\n",
    "def samples_to_objective_values(samples, hamiltonian):\n",
    "    \"\"\"Convert the samples to values of the objective function.\"\"\"\n",
    "\n",
    "    objective_values = defaultdict(float)\n",
    "    for bit_str, prob in samples.items():\n",
    "        candidate_sol = int(bit_str)\n",
    "        fval = evaluate_sparse_pauli(candidate_sol, hamiltonian).real\n",
    "        objective_values[fval] += prob\n",
    "\n",
    "    return objective_values"
   ]
  },
  {
   "cell_type": "code",
   "execution_count": null,
   "id": "33f0580d",
   "metadata": {
    "id": "33f0580d"
   },
   "outputs": [],
   "source": [
    "result_dist = samples_to_objective_values(final_distribution_int, cost_hamiltonian)"
   ]
  },
  {
   "cell_type": "markdown",
   "id": "20b3480e",
   "metadata": {
    "id": "20b3480e"
   },
   "source": [
    "Finally, you can plot the cumulative distribution function to visualize how each sample contributes to the total probability distribution and the corresponding objective value. The horizontal spread shows the range of objective values of the samples in the final distribution. Ideally, you would see that the cumulative distribution function has \"jumps\" at the lower end of the objective function value axis. This would mean that few solutions with low cost have high probability of being sampled. A smooth, wide curve indicates that each sample is similarly likely, and they can have very different objective values, low or high.\n"
   ]
  },
  {
   "cell_type": "code",
   "execution_count": null,
   "id": "4381a2b3",
   "metadata": {
    "id": "4381a2b3"
   },
   "outputs": [],
   "source": [
    "fig, ax = plt.subplots(1, 1, figsize=(8, 6))\n",
    "plot_cdf(result_dist, ax, 'CDF')"
   ]
  },
  {
   "cell_type": "markdown",
   "id": "beea7979-0fc6-4bc0-9d0e-8ccce5c91419",
   "metadata": {},
   "source": [
    "<div style=\"background-color:rgba(252, 245, 255, 1.0); text-align:left; vertical-align: middle; padding:20px 0;border:3px; border-style:solid; padding: 0.5em; border-color: rgba(190, 111, 227, 1.0); color: #000000;\">\n",
    "\n",
    "### Challenge Problem: \n",
    "\n",
    "**A)** We used $p=1$ layers in this 100 qubit QAOA example. Try $p=2$,$p=3$ layers. (You can use the function below to take a subgraph of our 100 qubit graph to make the optimization less computationally intensive for faster runtimes.) How does the performance of QAOA change with layer number?\n",
    "\n",
    "**B)** In Episode 12, we learned about the minimum vertex cover and how to implement the cost Hamiltonian for that problem. Keeping the same framework here, modify the code to solve the minimum vertex problem.\n",
    "\n",
    "**C)** With 100 qubits, we can already begin to perform optimizations for useful combinatorial problems. Can you think of a real-life example where you would want to use QAOA? Make a graph and cost Hamiltonian that describe the problem and run QAOA.\n",
    "\n",
    "<div/>"
   ]
  },
  {
   "cell_type": "code",
   "execution_count": null,
   "id": "d904978f-0775-46d9-a22d-add3505cdf88",
   "metadata": {},
   "outputs": [],
   "source": [
    "def get_subgraph_edge_list(full_edge_list, N):\n",
    "    # Filter edges that involve only nodes < N\n",
    "    return [(i, j, w) for (i, j, w) in full_edge_list if i < N and j < N]\n",
    "\n",
    "N=30\n",
    "new_edge_list = get_subgraph_edge_list(edge_list, N)\n",
    "\n",
    "new_graph = rx.PyGraph()\n",
    "new_graph.add_nodes_from(range(N))\n",
    "new_graph.add_edges_from(new_edge_list)\n",
    "draw_graph(new_graph, node_size=200, with_labels=True, width=1)"
   ]
  },
  {
   "cell_type": "code",
   "execution_count": null,
   "id": "b14df514-fee0-43d6-8c94-d2c0286859fc",
   "metadata": {},
   "outputs": [],
   "source": []
  }
 ],
 "metadata": {
  "colab": {
   "provenance": []
  },
  "kernelspec": {
   "display_name": "Python 3 QuantumRings",
   "language": "python",
   "name": "python3_quantu_8bt6c1"
  },
  "language_info": {
   "codemirror_mode": {
    "name": "ipython",
    "version": 3
   },
   "file_extension": ".py",
   "mimetype": "text/x-python",
   "name": "python",
   "nbconvert_exporter": "python",
   "pygments_lexer": "ipython3",
   "version": "3.11.9"
  }
 },
 "nbformat": 4,
 "nbformat_minor": 5
}
